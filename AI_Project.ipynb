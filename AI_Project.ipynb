{
  "nbformat": 4,
  "nbformat_minor": 0,
  "metadata": {
    "colab": {
      "name": "AI Project.ipynb",
      "provenance": [],
      "authorship_tag": "ABX9TyP/p92FZdAK7zhLVLoUrukk",
      "include_colab_link": true
    },
    "kernelspec": {
      "name": "python3",
      "display_name": "Python 3"
    },
    "language_info": {
      "name": "python"
    }
  },
  "cells": [
    {
      "cell_type": "markdown",
      "metadata": {
        "id": "view-in-github",
        "colab_type": "text"
      },
      "source": [
        "<a href=\"https://colab.research.google.com/github/HoHarvey/AI_Research/blob/main/AI_Project.ipynb\" target=\"_parent\"><img src=\"https://colab.research.google.com/assets/colab-badge.svg\" alt=\"Open In Colab\"/></a>"
      ]
    },
    {
      "cell_type": "code",
      "execution_count": null,
      "metadata": {
        "id": "I25ZXaxhCF3E"
      },
      "outputs": [],
      "source": [
        "!pip install pycaret"
      ]
    },
    {
      "cell_type": "code",
      "source": [
        "from pycaret.utils import enable_colab\n",
        "enable_colab()"
      ],
      "metadata": {
        "colab": {
          "base_uri": "https://localhost:8080/"
        },
        "id": "eXO0eafuEYe5",
        "outputId": "ccf356ec-0218-4c37-e84d-56b0ac99e3fb"
      },
      "execution_count": 2,
      "outputs": [
        {
          "output_type": "stream",
          "name": "stdout",
          "text": [
            "Colab mode enabled.\n"
          ]
        }
      ]
    },
    {
      "cell_type": "code",
      "source": [
        "import numpy as np\n",
        "import pandas as pd\n",
        "\n",
        "df = pd.read_csv(\"https://archive.ics.uci.edu/ml/machine-learning-databases/wine-quality/winequality-white.csv\",sep=';')\n",
        "df"
      ],
      "metadata": {
        "id": "PkdZ6CFMEdfh"
      },
      "execution_count": null,
      "outputs": []
    },
    {
      "cell_type": "code",
      "source": [
        "data = df.sample(frac=0.9, random_state=786)\n",
        "data_unseen = df.drop(data.index)\n",
        "\n",
        "data.reset_index(drop=True, inplace=True)\n",
        "data_unseen.reset_index(drop=True, inplace=True)\n",
        "\n",
        "print('Data for Modeling: ' + str(data.shape))\n",
        "print('Unseen Data For Predictions: ' + str(data_unseen.shape))"
      ],
      "metadata": {
        "id": "IDtVS3vZld03"
      },
      "execution_count": null,
      "outputs": []
    },
    {
      "cell_type": "code",
      "source": [
        "from pycaret.regression import *\n",
        "\n",
        "reg1 = setup(data = df, target = 'quality', session_id=123,\n",
        "                  normalize = True, transformation = True, transform_target = True, \n",
        "                  combine_rare_levels = True, rare_level_threshold = 0.05,\n",
        "                  remove_multicollinearity = True, multicollinearity_threshold = 0.95,\n",
        "                  log_experiment = True, experiment_name = 'alcohol1') \n"
      ],
      "metadata": {
        "id": "bX9MPTudggvb"
      },
      "execution_count": null,
      "outputs": []
    },
    {
      "cell_type": "code",
      "source": [
        "top3 = compare_models(exclude = ['ransac'], n_select = 3)"
      ],
      "metadata": {
        "id": "lYB1ZdMWBKGX"
      },
      "execution_count": null,
      "outputs": []
    },
    {
      "cell_type": "code",
      "source": [
        "et = create_model('et')"
      ],
      "metadata": {
        "id": "2rKPFmqiDRy2"
      },
      "execution_count": null,
      "outputs": []
    },
    {
      "cell_type": "code",
      "source": [
        "tuned_et = tune_model(et)"
      ],
      "metadata": {
        "id": "uY2HygDrfs_l"
      },
      "execution_count": null,
      "outputs": []
    },
    {
      "cell_type": "code",
      "source": [
        "bagged_et = ensemble_model(et)"
      ],
      "metadata": {
        "id": "9wplstSCfeRl"
      },
      "execution_count": null,
      "outputs": []
    },
    {
      "cell_type": "code",
      "source": [
        "# blend top3 models from compare_models\n",
        "blender_top3 = blend_models(top3)"
      ],
      "metadata": {
        "id": "QIyxlaOadA0-"
      },
      "execution_count": null,
      "outputs": []
    },
    {
      "cell_type": "code",
      "source": [
        "stacker = stack_models(top3)"
      ],
      "metadata": {
        "id": "UEaUd-OAd8Oi"
      },
      "execution_count": null,
      "outputs": []
    },
    {
      "cell_type": "code",
      "source": [
        "boosted_et = ensemble_model(et, method = 'Boosting')"
      ],
      "metadata": {
        "id": "Fn5CjhWrSr2l"
      },
      "execution_count": null,
      "outputs": []
    },
    {
      "cell_type": "code",
      "source": [
        "plot_model(boosted_et)"
      ],
      "metadata": {
        "id": "t53UG2GrDRsH"
      },
      "execution_count": null,
      "outputs": []
    },
    {
      "cell_type": "code",
      "source": [
        "plot_model(boosted_et, plot = 'error')"
      ],
      "metadata": {
        "id": "K7BOTqNRJkWf"
      },
      "execution_count": null,
      "outputs": []
    },
    {
      "cell_type": "code",
      "source": [
        "plot_model(boosted_et, plot='feature')"
      ],
      "metadata": {
        "id": "vUa_09BtJshG"
      },
      "execution_count": null,
      "outputs": []
    },
    {
      "cell_type": "code",
      "source": [
        "predict_model(boosted_et);"
      ],
      "metadata": {
        "id": "6-tEEb-GJ38N"
      },
      "execution_count": null,
      "outputs": []
    },
    {
      "cell_type": "code",
      "source": [
        "final_et = finalize_model(boosted_et)"
      ],
      "metadata": {
        "id": "eGxHmI09hKq5"
      },
      "execution_count": null,
      "outputs": []
    },
    {
      "cell_type": "code",
      "source": [
        "predict_model(final_et);"
      ],
      "metadata": {
        "id": "1dY2dKoUh_jY"
      },
      "execution_count": null,
      "outputs": []
    },
    {
      "cell_type": "code",
      "source": [
        "unseen_predictions = predict_model(final_et, data=data_unseen)\n",
        "unseen_predictions.head()"
      ],
      "metadata": {
        "id": "AyreH1npuHpd"
      },
      "execution_count": null,
      "outputs": []
    },
    {
      "cell_type": "code",
      "source": [
        "from pycaret.utils import check_metric\n",
        "check_metric(unseen_predictions.quality, unseen_predictions.Label, 'R2')"
      ],
      "metadata": {
        "id": "XrXdjMjOu12r"
      },
      "execution_count": null,
      "outputs": []
    },
    {
      "cell_type": "code",
      "source": [
        "save_model(final_et,'Final ET Model 14Dec2021')"
      ],
      "metadata": {
        "id": "NBDu1oaDu9OQ"
      },
      "execution_count": null,
      "outputs": []
    }
  ]
}